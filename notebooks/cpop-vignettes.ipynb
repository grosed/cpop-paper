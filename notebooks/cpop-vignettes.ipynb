{
 "cells": [
  {
   "cell_type": "markdown",
   "id": "8656e1b8",
   "metadata": {},
   "source": [
    "#   CPOP package Vignette"
   ]
  },
  {
   "cell_type": "markdown",
   "id": "809ea0d7",
   "metadata": {},
   "source": [
    "## Introduction"
   ]
  },
  {
   "cell_type": "markdown",
   "id": "e5787532",
   "metadata": {},
   "source": [
    "The CPOP algorithm fits a change-in-slope model to data. It assumes that we have we have data points $(y_1,x_1),\\ldots,(y_n,x_n)$, ordered so that $x_1<x_2<\\cdots<x_n$. For example  $x_i$ could be a time-stamp of when response $y_i$ is obtained. We model the response, $y$, as a signal plus noise where the signal is modelled as a continuous piecewise linear function of $x$. That is\n",
    "\n",
    "$$\n",
    "y_i=f(x_i)+\\epsilon_i\n",
    "$$\n",
    "\n",
    "where $f(x)$ is a continuous piecewise linear function.\n",
    "\n",
    "To estimate the function $f(x)$ we specify a set of $N$ grid points, $g_{1:N}$ with these ordered so that $g_i<g_j$ if and only if $i<j$, and allow the slope of $f(x)$ to only change at these grid points. We then estimate the number of changes, the location of the changes, and hence the resulting function $f(x)$ by minimising a penalised weighted least squares criteria. This criteria includes a term which measures fit to the data, which is calculated as the sum of the square residuals of the fitted function, scaled by the variance of the noise. The penalty is proportional to the number of changes.\n",
    "\n",
    "That is our estimated function will depend on $K$, the number of changes in slope, their locations, $\\tau_1,\\ldots,\\tau_K$, and the value of the function $f(x)$ at these change points, $\\alpha_1,\\ldots,\\alpha_K$, and its values, $\\alpha_0$ at  $\\tau_0<x_1$ and $\\alpha_{K+1}$ at some $\\tau_{K+1}>x_N$. The CPOP algorithm then estimates $K$, $\\tau_{1:K}$ and $\\alpha_{0:K+1}$ by as the values the solve the following minimisation problem\n",
    "\n",
    "$$\n",
    "\\min_{K,\\tau_{1:K}\\in g_{1:N}, \\alpha_{0:K+1} } \\left\\{\n",
    "\\sum_{i=1}^n \\frac{1}{\\sigma^2_i} (y_i -  \\alpha_{j(i)}-(\\alpha_{j(i)+1}-  \\alpha_{j(i)})\\frac{x_i-\\tau_{j(i)}}{\\tau_{j(i)+1}-\\tau_{j(i)}})^2+K\\beta\n",
    "\\right\\},\n",
    "$$\n",
    "\n",
    "where $\\sigma^2_1,\\ldots,\\sigma^2_n$ are the variances of the noise $\\epsilon_i$ for $i=1,\\ldots,n$, and $\\beta$ is the penalty for adding a changepoint. The sum in this expression is the weighted residual sum of squares, and the $K\\beta$ term is the penalty for having $K$ changes. \n",
    "\n",
    "If we know of have good estimates of the residual variances, and the noise is (close to) independent over time than an appropriate choice for the penalty is $\\beta=2 \\log n$, and this is the default for CPOP. However in many applications these assumptions will not hold and it is advised to look at segmentations for different value of $\\beta$ -- this is possible using CPOP with the CROPS algorithm. Larger values of $\\beta$ will lead to functions with fewer changes. Also there is a trade-off between the variances of the residuals and $\\beta$: e.g. if we double the variances and half the value of $\\beta$ we will obtain the same estimates for the number and location of the changes and the underlying function.\n"
   ]
  },
  {
   "cell_type": "markdown",
   "id": "da816054",
   "metadata": {},
   "source": [
    "## Basic usage"
   ]
  },
  {
   "cell_type": "markdown",
   "id": "423bd3ea",
   "metadata": {},
   "source": [
    "The __cpop__ package contains a single function for applying the cpop method to a univariate time series. The following example demonstrates using cpop to analyse a simulated data using default values for the method parameters. "
   ]
  },
  {
   "cell_type": "markdown",
   "id": "9ccfd38c",
   "metadata": {},
   "source": [
    "### load the package"
   ]
  },
  {
   "cell_type": "code",
   "execution_count": 5,
   "id": "2abb5ae2",
   "metadata": {},
   "outputs": [
    {
     "name": "stderr",
     "output_type": "stream",
     "text": [
      "Loading required package: crops\n",
      "\n",
      "Registered S3 method overwritten by 'ggplot2':\n",
      "  method        from\n",
      "  print.element sets\n",
      "\n",
      "Loading required package: pacman\n",
      "\n",
      "\n",
      "Attaching package: ‘cpop’\n",
      "\n",
      "\n",
      "The following objects are masked from ‘package:stats’:\n",
      "\n",
      "    fitted, simulate\n",
      "\n",
      "\n",
      "The following object is masked from ‘package:methods’:\n",
      "\n",
      "    show\n",
      "\n",
      "\n"
     ]
    }
   ],
   "source": [
    "library(cpop)"
   ]
  },
  {
   "cell_type": "markdown",
   "id": "584e32e2",
   "metadata": {},
   "source": [
    "### generate some simluated data"
   ]
  },
  {
   "cell_type": "code",
   "execution_count": 6,
   "id": "98f0055c",
   "metadata": {},
   "outputs": [
    {
     "data": {
      "image/png": "[encoded data removed]",
      "text/plain": [
       "plot without title"
      ]
     },
     "metadata": {
      "image/png": {
       "height": 420,
       "width": 420
      }
     },
     "output_type": "display_data"
    }
   ],
   "source": [
    "set.seed(0)\n",
    "x <- 1:100\n",
    "n <- length(x)\n",
    "sigma <- rep(1.0,n)\n",
    "mu <- 10*c(2*x[1:(n/2)]/n,2-2*x[((n/2)+1):n]/n)\n",
    "y <- rnorm(n,mu,sigma)\n",
    "plot(y)"
   ]
  },
  {
   "cell_type": "markdown",
   "id": "d0964c04",
   "metadata": {},
   "source": [
    "### basic cpop analysis"
   ]
  },
  {
   "cell_type": "code",
   "execution_count": 7,
   "id": "c0cecda8",
   "metadata": {},
   "outputs": [],
   "source": [
    "res <- cpop(y)"
   ]
  },
  {
   "cell_type": "markdown",
   "id": "852bb8bf",
   "metadata": {},
   "source": [
    "### basic post processing \n",
    "\n",
    "The __cpop__ method returns an S4 class of type __cpop.class__ and number of S4 generic post-processing methods (plot, summary, and sonon ) are available in the __cpop__ package."
   ]
  },
  {
   "cell_type": "markdown",
   "id": "7516a0bd",
   "metadata": {},
   "source": [
    "#### summary\n",
    "\n",
    "A __summary__ method has been provided which details the changepoint locations, estimates for the gradient and intercept of the piecewise linear sections, the resulting residual sum of squares, and the penalised cost. "
   ]
  },
  {
   "cell_type": "code",
   "execution_count": 8,
   "id": "def1babd",
   "metadata": {},
   "outputs": [
    {
     "name": "stdout",
     "output_type": "stream",
     "text": [
      "\n",
      "cpop analysis with n = 100 and penalty (beta)  = 9.21034\n",
      "\n",
      "1  changepoint detected at x = \n",
      " 49\n",
      "fitted values : \n",
      "  x0        y0 x1        y1   gradient  intercept      RSS\n",
      "1  0 0.3769332 49 9.8278009  0.1928749  0.3769332 41.00823\n",
      "2 49 9.8278009 99 0.2497007 -0.1915620 19.2143391 34.80863\n",
      "\n",
      "overall RSS = 75.81686\n",
      "cost = 85.0272\n",
      "\n"
     ]
    }
   ],
   "source": [
    "summary(res)"
   ]
  },
  {
   "cell_type": "markdown",
   "id": "d559a919",
   "metadata": {},
   "source": [
    "The output of the __summary__ method indicates the location of the changepoints and the details of the fitted line segments in terms of the end points of the segments $(x_{0},y_{0})$ and $(x_{0},y_{0})$ and the gradient / intercept for each segment. It also includes the residual sum of squares for each fitted segment."
   ]
  },
  {
   "cell_type": "markdown",
   "id": "3ebc32e4",
   "metadata": {},
   "source": [
    "#### plot\n",
    "\n",
    "The __plot__ function is provided for creating a __ggplo2__ opbject which can be used to display the fit and changepoint locations."
   ]
  },
  {
   "cell_type": "code",
   "execution_count": 9,
   "id": "d1ee7a27",
   "metadata": {},
   "outputs": [
    {
     "data": {
      "image/png": "[encoded data removed]",
      "text/plain": [
       "plot without title"
      ]
     },
     "metadata": {
      "image/png": {
       "height": 420,
       "width": 420
      }
     },
     "output_type": "display_data"
    }
   ],
   "source": [
    "plot(res)"
   ]
  },
  {
   "cell_type": "markdown",
   "id": "f7be3003",
   "metadata": {},
   "source": [
    "#### fitted\n",
    "\n",
    "The values for the endpoints, gradients, intercepts and RSS for each line segment (as shown using the __summary__ method) can be obtained as a data frame using the __fitted__ method.  "
   ]
  },
  {
   "cell_type": "code",
   "execution_count": 13,
   "id": "5c0eeb71",
   "metadata": {},
   "outputs": [
    {
     "name": "stdout",
     "output_type": "stream",
     "text": [
      "  x0        y0 x1        y1   gradient  intercept      RSS\n",
      "1  0 0.3769332 49 9.8278009  0.1928749  0.3769332 41.00823\n",
      "2 49 9.8278009 99 0.2497007 -0.1915620 19.2143391 34.80863\n"
     ]
    }
   ],
   "source": [
    "df <- fitted(res)\n",
    "print(df)"
   ]
  },
  {
   "cell_type": "markdown",
   "id": "43fb9f60",
   "metadata": {},
   "source": [
    "#### estimate\n",
    "\n",
    "The resulting S4 class produced by __cpop__ can be used to estimate the fitted model at specified points. The results from __estimate__ are available as a data frame containing the location and estimated value. Note, __estimate__ will extrapolate the fitted model outside of the range of the initial data."
   ]
  },
  {
   "cell_type": "code",
   "execution_count": 19,
   "id": "fc415ec7",
   "metadata": {},
   "outputs": [
    {
     "data": {
      "text/html": [
       "<table class=\"dataframe\">\n",
       "<caption>A data.frame: 3 × 2</caption>\n",
       "<thead>\n",
       "\t<tr><th scope=col>x</th><th scope=col>y_hat</th></tr>\n",
       "\t<tr><th scope=col>&lt;dbl&gt;</th><th scope=col>&lt;dbl&gt;</th></tr>\n",
       "</thead>\n",
       "<tbody>\n",
       "\t<tr><td>  2.7</td><td>  0.3769332</td></tr>\n",
       "\t<tr><td> 51.5</td><td>  8.8281338</td></tr>\n",
       "\t<tr><td>150.0</td><td>-10.0407235</td></tr>\n",
       "</tbody>\n",
       "</table>\n"
      ],
      "text/latex": [
       "A data.frame: 3 × 2\n",
       "\\begin{tabular}{ll}\n",
       " x & y\\_hat\\\\\n",
       " <dbl> & <dbl>\\\\\n",
       "\\hline\n",
       "\t   2.7 &   0.3769332\\\\\n",
       "\t  51.5 &   8.8281338\\\\\n",
       "\t 150.0 & -10.0407235\\\\\n",
       "\\end{tabular}\n"
      ],
      "text/markdown": [
       "\n",
       "A data.frame: 3 × 2\n",
       "\n",
       "| x &lt;dbl&gt; | y_hat &lt;dbl&gt; |\n",
       "|---|---|\n",
       "|   2.7 |   0.3769332 |\n",
       "|  51.5 |   8.8281338 |\n",
       "| 150.0 | -10.0407235 |\n",
       "\n"
      ],
      "text/plain": [
       "  x     y_hat      \n",
       "1   2.7   0.3769332\n",
       "2  51.5   8.8281338\n",
       "3 150.0 -10.0407235"
      ]
     },
     "metadata": {},
     "output_type": "display_data"
    }
   ],
   "source": [
    "estimate(res,x = c(2.7,51.5,150))"
   ]
  },
  {
   "cell_type": "markdown",
   "id": "30a12c30",
   "metadata": {},
   "source": [
    "#### residuals\n",
    "\n",
    "A matrix of residuals for a model fitted by __cpop__ can obtained by applying the __residuals__ method to a result produced by __cpop__.  "
   ]
  },
  {
   "cell_type": "code",
   "execution_count": 23,
   "id": "f83d6247",
   "metadata": {},
   "outputs": [
    {
     "data": {
      "text/html": [
       "<table class=\"dataframe\">\n",
       "<caption>A matrix: 6 × 1 of type dbl</caption>\n",
       "<tbody>\n",
       "\t<tr><td> 1.0860211</td></tr>\n",
       "\t<tr><td>-0.4960414</td></tr>\n",
       "\t<tr><td> 1.1671163</td></tr>\n",
       "\t<tr><td> 1.1168716</td></tr>\n",
       "\t<tr><td> 0.2662088</td></tr>\n",
       "\t<tr><td>-1.6812575</td></tr>\n",
       "</tbody>\n",
       "</table>\n"
      ],
      "text/latex": [
       "A matrix: 6 × 1 of type dbl\n",
       "\\begin{tabular}{l}\n",
       "\t  1.0860211\\\\\n",
       "\t -0.4960414\\\\\n",
       "\t  1.1671163\\\\\n",
       "\t  1.1168716\\\\\n",
       "\t  0.2662088\\\\\n",
       "\t -1.6812575\\\\\n",
       "\\end{tabular}\n"
      ],
      "text/markdown": [
       "\n",
       "A matrix: 6 × 1 of type dbl\n",
       "\n",
       "|  1.0860211 |\n",
       "| -0.4960414 |\n",
       "|  1.1671163 |\n",
       "|  1.1168716 |\n",
       "|  0.2662088 |\n",
       "| -1.6812575 |\n",
       "\n"
      ],
      "text/plain": [
       "     [,1]      \n",
       "[1,]  1.0860211\n",
       "[2,] -0.4960414\n",
       "[3,]  1.1671163\n",
       "[4,]  1.1168716\n",
       "[5,]  0.2662088\n",
       "[6,] -1.6812575"
      ]
     },
     "metadata": {},
     "output_type": "display_data"
    }
   ],
   "source": [
    "head(residuals(res))"
   ]
  },
  {
   "cell_type": "markdown",
   "id": "30fdc27d",
   "metadata": {},
   "source": [
    "#### changepoints\n",
    "\n",
    "The locations of the changepoints associated with a __cpop__ model can be obtained as a data frame using __changepoints__."
   ]
  },
  {
   "cell_type": "code",
   "execution_count": 38,
   "id": "27d1a497",
   "metadata": {},
   "outputs": [
    {
     "data": {
      "text/html": [
       "<table class=\"dataframe\">\n",
       "<caption>A data.frame: 1 × 1</caption>\n",
       "<thead>\n",
       "\t<tr><th scope=col>location</th></tr>\n",
       "\t<tr><th scope=col>&lt;dbl&gt;</th></tr>\n",
       "</thead>\n",
       "<tbody>\n",
       "\t<tr><td>49</td></tr>\n",
       "</tbody>\n",
       "</table>\n"
      ],
      "text/latex": [
       "A data.frame: 1 × 1\n",
       "\\begin{tabular}{l}\n",
       " location\\\\\n",
       " <dbl>\\\\\n",
       "\\hline\n",
       "\t 49\\\\\n",
       "\\end{tabular}\n"
      ],
      "text/markdown": [
       "\n",
       "A data.frame: 1 × 1\n",
       "\n",
       "| location &lt;dbl&gt; |\n",
       "|---|\n",
       "| 49 |\n",
       "\n"
      ],
      "text/plain": [
       "  location\n",
       "1 49      "
      ]
     },
     "metadata": {},
     "output_type": "display_data"
    }
   ],
   "source": [
    "changepoints(res)"
   ]
  },
  {
   "cell_type": "markdown",
   "id": "6f1c8266",
   "metadata": {},
   "source": [
    "#### cost"
   ]
  },
  {
   "cell_type": "markdown",
   "id": "678b11b2",
   "metadata": {},
   "source": [
    "The penalised cost of a __cpop__ model is obtained using the __cost__ method. The value returned by __cost__ is the the sum of the residuals for each segment plus $k\\beta$ where $k$ is the number of changepoints and $\\beta$ the penalty for fitting a changepoint. "
   ]
  },
  {
   "cell_type": "code",
   "execution_count": 25,
   "id": "bce3e21a",
   "metadata": {},
   "outputs": [
    {
     "data": {
      "text/html": [
       "85.0272039053013"
      ],
      "text/latex": [
       "85.0272039053013"
      ],
      "text/markdown": [
       "85.0272039053013"
      ],
      "text/plain": [
       "[1] 85.0272"
      ]
     },
     "metadata": {},
     "output_type": "display_data"
    }
   ],
   "source": [
    "cost(res)"
   ]
  },
  {
   "cell_type": "markdown",
   "id": "75134a27",
   "metadata": {},
   "source": [
    "Which is equivalent to "
   ]
  },
  {
   "cell_type": "code",
   "execution_count": 41,
   "id": "2e5a285e",
   "metadata": {},
   "outputs": [
    {
     "data": {
      "text/html": [
       "85.0272039053013"
      ],
      "text/latex": [
       "85.0272039053013"
      ],
      "text/markdown": [
       "85.0272039053013"
      ],
      "text/plain": [
       "[1] 85.0272"
      ]
     },
     "metadata": {},
     "output_type": "display_data"
    }
   ],
   "source": [
    "sum(residuals(res)*residuals(res)) + length(changepoints(res))*res@beta"
   ]
  },
  {
   "cell_type": "markdown",
   "id": "88284642",
   "metadata": {},
   "source": [
    "## cpop paramaters"
   ]
  },
  {
   "cell_type": "code",
   "execution_count": 1,
   "id": "b9320fc8",
   "metadata": {},
   "outputs": [
    {
     "name": "stderr",
     "output_type": "stream",
     "text": [
      "Loading required package: crops\n",
      "\n",
      "Registered S3 method overwritten by 'ggplot2':\n",
      "  method        from\n",
      "  print.element sets\n",
      "\n",
      "Loading required package: pacman\n",
      "\n",
      "\n",
      "Attaching package: ‘cpop’\n",
      "\n",
      "\n",
      "The following objects are masked from ‘package:stats’:\n",
      "\n",
      "    fitted, simulate\n",
      "\n",
      "\n",
      "The following object is masked from ‘package:methods’:\n",
      "\n",
      "    show\n",
      "\n",
      "\n"
     ]
    }
   ],
   "source": [
    "library(cpop)"
   ]
  },
  {
   "cell_type": "code",
   "execution_count": null,
   "id": "5a549c8e",
   "metadata": {},
   "outputs": [],
   "source": []
  },
  {
   "cell_type": "code",
   "execution_count": null,
   "id": "00e64bba",
   "metadata": {},
   "outputs": [],
   "source": []
  }
 ],
 "metadata": {
  "kernelspec": {
   "display_name": "R",
   "language": "R",
   "name": "ir"
  },
  "language_info": {
   "codemirror_mode": "r",
   "file_extension": ".r",
   "mimetype": "text/x-r-source",
   "name": "R",
   "pygments_lexer": "r",
   "version": "4.2.1"
  }
 },
 "nbformat": 4,
 "nbformat_minor": 5
}
